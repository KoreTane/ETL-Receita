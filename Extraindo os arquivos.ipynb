{
 "cells": [
  {
   "cell_type": "code",
   "execution_count": 3,
   "id": "1514672a-fb41-4aad-9221-c1bdc9ad26d4",
   "metadata": {},
   "outputs": [
    {
     "name": "stdout",
     "output_type": "stream",
     "text": [
      "Arquivo 2024-12/Empresas1.zip baixado com sucesso!\n",
      "Arquivo 2025-01/Empresas1.zip baixado com sucesso!\n"
     ]
    },
    {
     "data": {
      "text/plain": [
       "['2023-05/',\n",
       " '2023-06/',\n",
       " '2023-07/',\n",
       " '2023-08/',\n",
       " '2023-09/',\n",
       " '2023-10/',\n",
       " '2023-11/',\n",
       " '2023-12/',\n",
       " '2024-01/',\n",
       " '2024-02/',\n",
       " '2024-03/',\n",
       " '2024-04/',\n",
       " '2024-05/',\n",
       " '2024-06/',\n",
       " '2024-07/',\n",
       " '2024-08/',\n",
       " '2024-09/',\n",
       " '2024-10/',\n",
       " '2024-11/',\n",
       " '2024-12/',\n",
       " '2025-01/']"
      ]
     },
     "execution_count": 3,
     "metadata": {},
     "output_type": "execute_result"
    }
   ],
   "source": [
    "import os\n",
    "import requests\n",
    "from bs4 import BeautifulSoup\n",
    "\n",
    "# URL base da Receita Federal\n",
    "base_url = \"https://arquivos.receitafederal.gov.br/cnpj/dados_abertos_cnpj/\"\n",
    "\n",
    "# Função para listar diretórios disponíveis na URL base\n",
    "def listar_diretorios_base():\n",
    "    response = requests.get(base_url)\n",
    "    if response.status_code == 200:\n",
    "        soup = BeautifulSoup(response.content, 'html.parser')\n",
    "        links = soup.find_all('a')\n",
    "        diretorios = [link.get('href') for link in links if link.get('href') and link.get('href').startswith('20')]\n",
    "        return diretorios\n",
    "    else:\n",
    "        print(f\"Erro ao acessar a URL: {response.status_code}\")\n",
    "        return []\n",
    "\n",
    "# Função para baixar o arquivo Empresas1.zip de um diretório específico\n",
    "def baixar_empresas_zip(diretorio):\n",
    "    url = f\"{base_url}{diretorio}Empresas1.zip\"\n",
    "    response = requests.get(url)\n",
    "    if response.status_code == 200:\n",
    "        # Criar diretório local, se não existir\n",
    "        if not os.path.exists(diretorio):\n",
    "            os.makedirs(diretorio)\n",
    "        \n",
    "        # Salvar o arquivo\n",
    "        with open(os.path.join(diretorio, 'Empresas1.zip'), 'wb') as file:\n",
    "            file.write(response.content)\n",
    "        print(f\"Arquivo {diretorio}Empresas1.zip baixado com sucesso!\")\n",
    "    else:\n",
    "        print(f\"Erro ao acessar a URL: {response.status_code}\")\n",
    "\n",
    "# Listar diretórios e baixar arquivos desejados\n",
    "diretorios = listar_diretorios_base()\n",
    "diretorios_desejados = [\"2024-12/\", \"2025-01/\"]\n",
    "\n",
    "for diretorio in diretorios_desejados:\n",
    "    if diretorio in diretorios:\n",
    "        baixar_empresas_zip(diretorio)\n",
    "    else:\n",
    "        print(f\"Diretório {diretorio} não encontrado.\")\n",
    "\n",
    "# Executar a função para listar diretórios e baixar arquivos\n",
    "listar_diretorios_base()\n"
   ]
  },
  {
   "cell_type": "code",
   "execution_count": null,
   "id": "db7c2494-7188-46b1-8b25-3bdad1901fcb",
   "metadata": {},
   "outputs": [],
   "source": []
  }
 ],
 "metadata": {
  "kernelspec": {
   "display_name": "Python 3 (ipykernel)",
   "language": "python",
   "name": "python3"
  },
  "language_info": {
   "codemirror_mode": {
    "name": "ipython",
    "version": 3
   },
   "file_extension": ".py",
   "mimetype": "text/x-python",
   "name": "python",
   "nbconvert_exporter": "python",
   "pygments_lexer": "ipython3",
   "version": "3.12.4"
  }
 },
 "nbformat": 4,
 "nbformat_minor": 5
}
